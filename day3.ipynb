{
 "cells": [
  {
   "cell_type": "markdown",
   "metadata": {},
   "source": [
    "# Part 1"
   ]
  },
  {
   "cell_type": "code",
   "execution_count": 6,
   "metadata": {},
   "outputs": [],
   "source": [
    "import re\n",
    "symbols = []\n",
    "numbers = []\n",
    "file = open('data/day3-1.txt', 'r')\n",
    "lines = file.read().split('\\n')\n",
    "for row, line in enumerate(lines):\n",
    "    line = line.strip()\n",
    "    for col, c in enumerate(line):\n",
    "        if not c.isnumeric() and c != '.':\n",
    "            symbols.append((c, row, col))\n",
    "    \n",
    "    for match in re.finditer(r'\\d+', line):\n",
    "        numbers.append((match[0], row, range(match.start(), match.end())))\n",
    "# print(symbols)\n",
    "# print(numbers)\n"
   ]
  },
  {
   "cell_type": "code",
   "execution_count": 7,
   "metadata": {},
   "outputs": [],
   "source": [
    "def get_neighbors(row, col, row_lim, col_lim):\n",
    "    neighbors = []\n",
    "    for dr in range(-1, 2):\n",
    "        for dc in range(-1, 2):\n",
    "            if (dr, dc) == (0,0):\n",
    "                continue\n",
    "            (new_r, new_c) = (row+dr, col+dc)\n",
    "            if (new_r in range(0, row_lim)) and (new_c in range(0, col_lim)):\n",
    "                neighbors.append((new_r, new_c))\n",
    "    return neighbors"
   ]
  },
  {
   "cell_type": "code",
   "execution_count": 8,
   "metadata": {},
   "outputs": [],
   "source": [
    "row_lim = len(lines)\n",
    "col_lim = len(lines[0])\n",
    "valid_neighbors = []\n",
    "for symbol, r, c in symbols:\n",
    "    neighbors = get_neighbors(r, c, row_lim, col_lim)\n",
    "    for nr, nc in neighbors:\n",
    "        char = lines[nr][nc]\n",
    "        if char.isnumeric():\n",
    "            valid_neighbors.append((char, nr, nc))\n",
    "# print(valid_neighbors)"
   ]
  },
  {
   "cell_type": "code",
   "execution_count": 9,
   "metadata": {},
   "outputs": [
    {
     "data": {
      "text/plain": [
       "522726"
      ]
     },
     "execution_count": 9,
     "metadata": {},
     "output_type": "execute_result"
    }
   ],
   "source": [
    "part_nums = []\n",
    "for _, nrow, ncol in valid_neighbors:\n",
    "    for n in numbers:\n",
    "        if nrow == n[1] and ncol in n[2]:\n",
    "            part_nums.append(n)\n",
    "sum([int(part[0]) for part in set(part_nums)])\n"
   ]
  },
  {
   "cell_type": "markdown",
   "metadata": {},
   "source": [
    "# Part 2"
   ]
  },
  {
   "cell_type": "code",
   "execution_count": 10,
   "metadata": {},
   "outputs": [
    {
     "data": {
      "text/plain": [
       "81721933"
      ]
     },
     "execution_count": 10,
     "metadata": {},
     "output_type": "execute_result"
    }
   ],
   "source": [
    "import re\n",
    "gears = [s for s in symbols if s[0] == \"*\"]\n",
    "\n",
    "total_ratio = 0\n",
    "for _, r, c in gears:\n",
    "    ratios = []\n",
    "    for g in get_neighbors(r, c, row_lim, col_lim):\n",
    "        for n in numbers:\n",
    "            if g[0] == n[1] and g[1] in n[2]:\n",
    "                ratios.append(n)\n",
    "    ratios = list(set(ratios))\n",
    "    if len(ratios) == 2:\n",
    "        total_ratio += int(ratios[0][0]) * int(ratios[1][0])\n",
    "total_ratio\n"
   ]
  }
 ],
 "metadata": {
  "kernelspec": {
   "display_name": "general",
   "language": "python",
   "name": "python3"
  },
  "language_info": {
   "codemirror_mode": {
    "name": "ipython",
    "version": 3
   },
   "file_extension": ".py",
   "mimetype": "text/x-python",
   "name": "python",
   "nbconvert_exporter": "python",
   "pygments_lexer": "ipython3",
   "version": "3.12.0"
  }
 },
 "nbformat": 4,
 "nbformat_minor": 2
}
