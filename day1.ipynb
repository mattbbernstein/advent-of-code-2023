{
 "cells": [
  {
   "cell_type": "markdown",
   "metadata": {},
   "source": [
    "# Part 1"
   ]
  },
  {
   "cell_type": "code",
   "execution_count": 2,
   "metadata": {},
   "outputs": [
    {
     "data": {
      "text/plain": [
       "54927"
      ]
     },
     "execution_count": 2,
     "metadata": {},
     "output_type": "execute_result"
    }
   ],
   "source": [
    "sum = 0\n",
    "with open('data/day1-1.txt', 'r') as file:\n",
    "    for line in file:\n",
    "        digits = [c for c in line if c.isnumeric()]\n",
    "        first_last = str(digits[0]) + str(digits[-1])\n",
    "        cal_val = int(first_last)\n",
    "        sum += cal_val\n",
    "sum\n",
    "        "
   ]
  },
  {
   "cell_type": "markdown",
   "metadata": {},
   "source": [
    "# Part 2"
   ]
  },
  {
   "cell_type": "code",
   "execution_count": 15,
   "metadata": {},
   "outputs": [
    {
     "data": {
      "text/plain": [
       "54581"
      ]
     },
     "execution_count": 15,
     "metadata": {},
     "output_type": "execute_result"
    }
   ],
   "source": [
    "spelled_out = {\n",
    "    \"one\": 1,\n",
    "    \"two\": 2,\n",
    "    \"three\": 3,\n",
    "    \"four\": 4,\n",
    "    \"five\": 5,\n",
    "    \"six\": 6,\n",
    "    \"seven\": 7,\n",
    "    \"eight\": 8,\n",
    "    \"nine\": 9\n",
    "}\n",
    "\n",
    "sum = 0\n",
    "with open('data/day1-1.txt', 'r') as file:\n",
    "    for line in file:\n",
    "        first_digit = -1\n",
    "        recent_digit = 0\n",
    "        for i, c in enumerate(line):\n",
    "            if c.isnumeric(): \n",
    "                recent_digit = c\n",
    "                if first_digit == -1: first_digit = c\n",
    "            else:\n",
    "                for s, n in spelled_out.items():\n",
    "                    if line.find(s, i) == i:\n",
    "                        recent_digit = n\n",
    "                        if first_digit == -1: first_digit = n\n",
    "        cal_val = int(str(first_digit) + str(recent_digit))\n",
    "        sum += cal_val\n",
    "sum"
   ]
  }
 ],
 "metadata": {
  "kernelspec": {
   "display_name": "Python 3",
   "language": "python",
   "name": "python3"
  },
  "language_info": {
   "codemirror_mode": {
    "name": "ipython",
    "version": 3
   },
   "file_extension": ".py",
   "mimetype": "text/x-python",
   "name": "python",
   "nbconvert_exporter": "python",
   "pygments_lexer": "ipython3",
   "version": "3.12.0"
  }
 },
 "nbformat": 4,
 "nbformat_minor": 2
}
