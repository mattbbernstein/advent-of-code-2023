{
 "cells": [
  {
   "cell_type": "markdown",
   "metadata": {},
   "source": [
    "# Part 1"
   ]
  },
  {
   "cell_type": "code",
   "execution_count": 32,
   "metadata": {},
   "outputs": [
    {
     "data": {
      "text/plain": [
       "2285"
      ]
     },
     "execution_count": 32,
     "metadata": {},
     "output_type": "execute_result"
    }
   ],
   "source": [
    "import re\n",
    "\n",
    "limits = {\n",
    "    \"red\": 12,\n",
    "    \"green\": 13,\n",
    "    \"blue\": 14,\n",
    "}\n",
    "\n",
    "file = open('data/day2-1.txt', 'r')\n",
    "sum = 0\n",
    "for line in file:\n",
    "    match = re.match(r\"Game (\\d+):\", line)\n",
    "    game_num = int(match.groups()[0])\n",
    "    groups = re.findall(r\"(\\d+) (green|blue|red)\", line)\n",
    "    possible = True\n",
    "    for group in groups:\n",
    "        if int(group[0]) > limits[group[1]]:\n",
    "            possible = False\n",
    "            break\n",
    "    if possible:\n",
    "        sum += game_num\n",
    "sum"
   ]
  },
  {
   "cell_type": "markdown",
   "metadata": {},
   "source": [
    "# Part 2"
   ]
  },
  {
   "cell_type": "code",
   "execution_count": 35,
   "metadata": {},
   "outputs": [
    {
     "data": {
      "text/plain": [
       "77021"
      ]
     },
     "execution_count": 35,
     "metadata": {},
     "output_type": "execute_result"
    }
   ],
   "source": [
    "file = open('data/day2-1.txt', 'r')\n",
    "sum = 0\n",
    "for line in file:\n",
    "    groups = re.findall(r\"(\\d+) (green|blue|red)\", line)\n",
    "    min_cubes = {\n",
    "        \"red\": 0,\n",
    "        \"blue\": 0, \n",
    "        \"green\": 0,\n",
    "    }\n",
    "    for group in groups:\n",
    "        min_cubes[group[1]] = max(min_cubes[group[1]], int(group[0]))\n",
    "    power = 1\n",
    "    for c in min_cubes.values(): power *= c\n",
    "    sum += power\n",
    "sum"
   ]
  }
 ],
 "metadata": {
  "kernelspec": {
   "display_name": "general",
   "language": "python",
   "name": "python3"
  },
  "language_info": {
   "codemirror_mode": {
    "name": "ipython",
    "version": 3
   },
   "file_extension": ".py",
   "mimetype": "text/x-python",
   "name": "python",
   "nbconvert_exporter": "python",
   "pygments_lexer": "ipython3",
   "version": "3.12.0"
  }
 },
 "nbformat": 4,
 "nbformat_minor": 2
}
